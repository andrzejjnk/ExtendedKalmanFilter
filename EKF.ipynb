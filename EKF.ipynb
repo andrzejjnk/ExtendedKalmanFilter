{
 "cells": [
  {
   "cell_type": "code",
   "execution_count": null,
   "metadata": {},
   "outputs": [],
   "source": [
    "import numpy as np\n",
    "from scipy.linalg import expm"
   ]
  },
  {
   "cell_type": "markdown",
   "metadata": {},
   "source": [
    "# Quaternion utils"
   ]
  },
  {
   "cell_type": "code",
   "execution_count": 3,
   "metadata": {},
   "outputs": [],
   "source": [
    "# Helper: Quaternion multiplication\n",
    "def quaternion_multiply(q1, q2):\n",
    "    \"\"\"\n",
    "    Multiply two quaternions.\n",
    "    \"\"\"\n",
    "    w1, x1, y1, z1 = q1\n",
    "    w2, x2, y2, z2 = q2\n",
    "    return np.array([\n",
    "        w1 * w2 - x1 * x2 - y1 * y2 - z1 * z2,\n",
    "        w1 * x2 + x1 * w2 + y1 * z2 - z1 * y2,\n",
    "        w1 * y2 - x1 * z2 + y1 * w2 + z1 * x2,\n",
    "        w1 * z2 + x1 * y2 - y1 * x2 + z1 * w2\n",
    "    ])\n",
    "\n",
    "\n",
    "def quaternion_derivative(q, w):\n",
    "    \"\"\"\n",
    "    Compute the quaternion derivative.\n",
    "\n",
    "    Parameters:\n",
    "    - q: Current state quaternion [w, x, y, z]\n",
    "    - w: Angular velocity vector [wx, wy, wz]\n",
    "\n",
    "    Returns:\n",
    "    - q_dot: Quaternion derivative\n",
    "    \"\"\"\n",
    "    qw, qx, qy, qz = q\n",
    "    wx, wy, wz = w\n",
    "\n",
    "    q_dot = 0.5 * np.array([\n",
    "        -qx * wx - qy * wy - qz * wz,\n",
    "         qw * wx + qy * wz - qz * wy,\n",
    "         qw * wy - qx * wz + qz * wx,\n",
    "         qw * wz + qx * wy - qy * wx\n",
    "    ])\n",
    "\n",
    "    return q_dot\n",
    "\n",
    "def f(q, w, dt):\n",
    "    \"\"\"\n",
    "    State prediction function.\n",
    "\n",
    "    Parameters:\n",
    "    - q: Current state quaternion [w, x, y, z]\n",
    "    - w: Angular velocity vector [wx, wy, wz]\n",
    "    - dt: Time step\n",
    "\n",
    "    Returns:\n",
    "    - q_hat: Predicted state quaternion\n",
    "    \"\"\"\n",
    "    q_dot = quaternion_derivative(q, w)\n",
    "\n",
    "    # Euler integration\n",
    "    q_hat = q + dt * q_dot\n",
    "    q_hat /= np.linalg.norm(q_hat)  # Normalize quaternion\n",
    "\n",
    "    return q_hat\n",
    "\n",
    "# Helper: Normalize quaternion\n",
    "def normalize_quaternion(q):\n",
    "    \"\"\"\n",
    "    Ensure the quaternion is normalized (unit norm).\n",
    "    \"\"\"\n",
    "    return q / np.linalg.norm(q)\n",
    "\n",
    "# Helper: Skew-symmetric matrix for cross products\n",
    "def skew_symmetric(v):\n",
    "    return np.array([\n",
    "        [0, -v[2], v[1]],\n",
    "        [v[2], 0, -v[0]],\n",
    "        [-v[1], v[0], 0]\n",
    "    ])\n",
    "\n",
    "def quaternion_derivative_matrix(omega):\n",
    "    \"\"\"\n",
    "    Calculate the quaternion derivative matrix.\n",
    "    \"\"\"\n",
    "    return np.array([\n",
    "        [0, -omega[0], -omega[1], -omega[2]],\n",
    "        [omega[0], 0, omega[2], -omega[1]],\n",
    "        [omega[1], -omega[2], 0, omega[0]],\n",
    "        [omega[2], omega[1], -omega[0], 0]\n",
    "    ])\n"
   ]
  },
  {
   "cell_type": "markdown",
   "metadata": {},
   "source": [
    "# Predykcja"
   ]
  },
  {
   "cell_type": "markdown",
   "metadata": {},
   "source": [
    "## Stan "
   ]
  },
  {
   "cell_type": "markdown",
   "metadata": {},
   "source": [
    "\\begin{split}\n",
    "\\begin{array}{rcl}\n",
    "\\hat{\\mathbf{q}}_t &=& \\mathbf{f}(\\mathbf{q}_{t-1}, \\mathbf{\\omega}_t) \\\\\n",
    "\\hat{\\mathbf{q}}_t &=& \\mathbf{q}_{t-1} + \\int_{t-1}^t\\boldsymbol\\omega\\, dt\n",
    "\\end{array}\n",
    "\\end{split}"
   ]
  },
  {
   "cell_type": "code",
   "execution_count": 4,
   "metadata": {},
   "outputs": [],
   "source": [
    "def f(q, w, dt):\n",
    "    \"\"\"\n",
    "    State prediction function.\n",
    "\n",
    "    Parameters:\n",
    "    - q: Current state quaternion [w, x, y, z]\n",
    "    - w: Angular velocity vector [wx, wy, wz]\n",
    "    - dt: Time step\n",
    "\n",
    "    Returns:\n",
    "    - q_hat: Predicted state quaternion\n",
    "    \"\"\"\n",
    "    # Quaternion derivative\n",
    "    q_dot = quaternion_derivative(q, w)\n",
    "\n",
    "    # Euler integration\n",
    "    q_hat = q + dt * q_dot\n",
    "    q_hat /= np.linalg.norm(q_hat)  # Normalize quaternion\n",
    "\n",
    "    return q_hat"
   ]
  },
  {
   "cell_type": "markdown",
   "metadata": {},
   "source": [
    "## Kowariancja predykcji stanu"
   ]
  },
  {
   "cell_type": "markdown",
   "metadata": {},
   "source": [
    "Z definicji \n",
    "\n",
    "\\begin{split}\\begin{array}{rcl}\n",
    "\\hat{\\mathbf{P}}_t &=& \\mathbf{F}(\\mathbf{q}_{t-1}, \\mathbf{\\omega}_t)\\mathbf{P}_{t-1}\\mathbf{F}^T(\\mathbf{q}_{t-1}, \\mathbf{\\omega}_t) + \\mathbf{Q}_t\n",
    "\\end{array}\\end{split}\n"
   ]
  },
  {
   "cell_type": "markdown",
   "metadata": {},
   "source": [
    "### Pochodna predykcji stanu\n",
    "\n",
    "Przyblizenie pierwszego rzedu z Taylora."
   ]
  },
  {
   "cell_type": "markdown",
   "metadata": {},
   "source": [
    "\n",
    "\\begin{split}\\begin{array}{rcl}\n",
    "\\mathbf{F}(\\mathbf{q}_{t-1}, \\boldsymbol\\omega_t)\n",
    "&=& \\frac{\\partial\\mathbf{f}(\\mathbf{q}_{t-1}, \\boldsymbol\\omega_t)}{\\partial\\mathbf{q}} \\\\\n",
    "&=&\\begin{bmatrix}\n",
    "\\frac{\\partial\\mathbf{f}(\\mathbf{q}_{t-1}, \\boldsymbol\\omega_t)}{\\partial q_w} &\n",
    "\\frac{\\partial\\mathbf{f}(\\mathbf{q}_{t-1}, \\boldsymbol\\omega_t)}{\\partial q_x} &\n",
    "\\frac{\\partial\\mathbf{f}(\\mathbf{q}_{t-1}, \\boldsymbol\\omega_t)}{\\partial q_y} &\n",
    "\\frac{\\partial\\mathbf{f}(\\mathbf{q}_{t-1}, \\boldsymbol\\omega_t)}{\\partial q_z}\n",
    "\\end{bmatrix} \\\\ &=&\n",
    "\\begin{bmatrix}\n",
    "    1 & - \\frac{\\Delta t}{2} \\omega_x & - \\frac{\\Delta t}{2} \\omega_y & - \\frac{\\Delta t}{2} \\omega_z\\\\\n",
    "    \\frac{\\Delta t}{2} \\omega_x & 1 & \\frac{\\Delta t}{2} \\omega_z & - \\frac{\\Delta t}{2} \\omega_y\\\\\n",
    "    \\frac{\\Delta t}{2} \\omega_y & - \\frac{\\Delta t}{2} \\omega_z & 1 & \\frac{\\Delta t}{2} \\omega_x\\\\\n",
    "    \\frac{\\Delta t}{2} \\omega_z & \\frac{\\Delta t}{2} \\omega_y & - \\frac{\\Delta t}{2} \\omega_x & 1\n",
    "\\end{bmatrix}\n",
    "\\end{array}\\end{split}"
   ]
  },
  {
   "cell_type": "code",
   "execution_count": null,
   "metadata": {},
   "outputs": [],
   "source": [
    "def F_jacobian(w, dt):\n",
    "    \"\"\"\n",
    "    Compute the Jacobian of the state prediction function f with respect to the state quaternion.\n",
    "\n",
    "    Parameters:\n",
    "    - w: Angular velocity vector [wx, wy, wz]\n",
    "    - dt: Time step\n",
    "\n",
    "    Returns:\n",
    "    - F: 4x4 Jacobian matrix\n",
    "    \"\"\"\n",
    "    wx, wy, wz = w\n",
    "    dq = dt / 2.0\n",
    "\n",
    "    F = np.array([\n",
    "        [1,     -dq * wx, -dq * wy, -dq * wz],\n",
    "        [dq * wx,    1,  dq * wz, -dq * wy],\n",
    "        [dq * wy, -dq * wz,    1,  dq * wx],\n",
    "        [dq * wz,  dq * wy, -dq * wx,    1]\n",
    "    ])\n",
    "\n",
    "    return F"
   ]
  },
  {
   "cell_type": "markdown",
   "metadata": {},
   "source": [
    "### Szum procesu"
   ]
  },
  {
   "cell_type": "markdown",
   "metadata": {},
   "source": [
    "Szum pochodzi glownie z zyroskopu. Gęstość szumu przyjmujemy\n",
    "\\begin{bmatrix}\\sigma_{\\omega x}^2 & \\sigma_{\\omega y}^2 & \\sigma_{\\omega z}^2\\end{bmatrix}^T"
   ]
  },
  {
   "cell_type": "markdown",
   "metadata": {},
   "source": [
    "\\begin{split}\\Sigma_\\omega =\n",
    "\\begin{bmatrix}\n",
    "\\sigma_{\\omega x}^2 & 0 & 0 \\\\\n",
    "0 & \\sigma_{\\omega y}^2 & 0 \\\\\n",
    "0 & 0 & \\sigma_{\\omega z}^2\n",
    "\\end{bmatrix}\\end{split}"
   ]
  },
  {
   "cell_type": "markdown",
   "metadata": {},
   "source": [
    "Calkujemy wplyw szumu w jednostce czasu "
   ]
  },
  {
   "cell_type": "markdown",
   "metadata": {},
   "source": [
    "\\begin{split}\n",
    "\\mathbf{Q}_t = \\int_0^{\\Delta t} e^{\\mathbf{A}_t} \\Sigma_\\omega e^{\\mathbf{A}_t^T} dt\n",
    "\\end{split}"
   ]
  },
  {
   "cell_type": "markdown",
   "metadata": {},
   "source": [
    "Powyzszy wzór przyblizamy Taylorem "
   ]
  },
  {
   "cell_type": "markdown",
   "metadata": {},
   "source": [
    "\\begin{split}\\begin{array}{rcl}\n",
    "\\mathbf{W}_t &=& \\frac{\\partial\\mathbf{f}(\\mathbf{q}_{t-1}, \\boldsymbol\\omega_t)}{\\partial\\boldsymbol\\omega} \\\\\n",
    "&=& \\begin{bmatrix}\n",
    "\\frac{\\partial\\mathbf{f}(\\mathbf{q}_{t-1}, \\boldsymbol\\omega_t)}{\\partial\\omega_x} &\n",
    "\\frac{\\partial\\mathbf{f}(\\mathbf{q}_{t-1}, \\boldsymbol\\omega_t)}{\\partial\\omega_y} &\n",
    "\\frac{\\partial\\mathbf{f}(\\mathbf{q}_{t-1}, \\boldsymbol\\omega_t)}{\\partial\\omega_z}\n",
    "\\end{bmatrix} \\\\\n",
    "&=& \\frac{\\Delta t}{2}\n",
    "\\begin{bmatrix}\n",
    "-q_x & -q_y & -q_z \\\\\n",
    "q_w & -q_z & q_y \\\\\n",
    "q_z & q_w & -q_x \\\\\n",
    "-q_y & q_x & q_w\n",
    "\\end{bmatrix}\n",
    "\\end{array}\\end{split}"
   ]
  },
  {
   "cell_type": "code",
   "execution_count": null,
   "metadata": {},
   "outputs": [],
   "source": [
    "def Q_process_noise(q, gyroNoise, dt):\n",
    "    \"\"\"\n",
    "    Compute the process noise covariance matrix Q.\n",
    "\n",
    "    Parameters:\n",
    "    - q: Current state quaternion [w, x, y, z]\n",
    "    - gyroNoise: 3-element array of gyroscope noise variances\n",
    "    - dt: Time step\n",
    "\n",
    "    Returns:\n",
    "    - Q: 4x4 process noise covariance matrix\n",
    "    \"\"\"\n",
    "    qw, qx, qy, qz = q\n",
    "    wx_noise, wy_noise, wz_noise = gyroNoise\n",
    "\n",
    "    E = np.diag([wx_noise, wy_noise, wz_noise])  # 3x3 noise covariance\n",
    "\n",
    "    # Jacobian of the process model with respect to the noise\n",
    "    W = (dt / 2.0) * np.array([\n",
    "        [-qx, -qy, -qz],\n",
    "        [ qw, -qz,  qy],\n",
    "        [ qz,  qw, -qx],\n",
    "        [-qy,  qx,  qw]\n",
    "    ])  # Shape: (4,3)\n",
    "\n",
    "    Q = W @ E @ W.T  # Shape: (4,4)\n",
    "\n",
    "    return Q\n"
   ]
  },
  {
   "cell_type": "markdown",
   "metadata": {},
   "source": [
    "### Kowariancja procesu"
   ]
  },
  {
   "cell_type": "markdown",
   "metadata": {},
   "source": [
    "Wzór jw."
   ]
  },
  {
   "cell_type": "code",
   "execution_count": null,
   "metadata": {},
   "outputs": [],
   "source": [
    "def P_hat_prediction(P, q, w, gyroNoise, dt):\n",
    "    \"\"\"\n",
    "    Predict the next state covariance matrix P_hat.\n",
    "\n",
    "    Parameters:\n",
    "    - P: Current state covariance matrix (4x4)\n",
    "    - q: Current state quaternion [w, x, y, z]\n",
    "    - w: Angular velocity vector [wx, wy, wz]\n",
    "    - gyroNoise: 3-element array of gyroscope noise variances\n",
    "    - dt: Time step\n",
    "\n",
    "    Returns:\n",
    "    - P_hat: Predicted state covariance matrix (4x4)\n",
    "    \"\"\"\n",
    "    F = F_jacobian(w, dt)\n",
    "    Q = Q_process_noise(q, gyroNoise, dt)\n",
    "    P_hat = F @ P @ F.T + Q\n",
    "    return P_hat"
   ]
  },
  {
   "cell_type": "markdown",
   "metadata": {},
   "source": [
    "# Korekcja"
   ]
  },
  {
   "cell_type": "markdown",
   "metadata": {},
   "source": [
    "\\begin{split}\n",
    "\\mathbf{q}_t = \\hat{\\mathbf{q}}_t + \\mathbf{K}_t \\big(\\mathbf{z}_t - \\mathbf{h}(\\mathbf{q}_t)\\big)\n",
    "\\end{split}"
   ]
  },
  {
   "cell_type": "markdown",
   "metadata": {},
   "source": [
    "## Spodziewane wskazania akcelerometru"
   ]
  },
  {
   "cell_type": "markdown",
   "metadata": {},
   "source": [
    "\\begin{split}\\begin{array}{rcl}\n",
    "\\mathbf{h}(\\hat{\\mathbf{q}}_t) &=& \\hat{\\mathbf{a}}\n",
    "= \\mathbf{C}(\\hat{\\mathbf{q}})^T \\mathbf{g} \\\\\n",
    "&=&\n",
    "2 \\begin{bmatrix}\n",
    "g_x (\\frac{1}{2} - q_y^2 - q_z^2) + g_y (q_wq_z + q_xq_y) + g_z (q_xq_z - q_wq_y) \\\\\n",
    "g_x (q_xq_y - q_wq_z) + g_y (\\frac{1}{2} - q_x^2 -  q_z^2) + g_z (q_wq_x + q_yq_z) \\\\\n",
    "g_x (q_wq_y + q_xq_z) + g_y (q_yq_z - q_wq_x) + g_z (\\frac{1}{2} - q_x^2 -  q_y^2)\n",
    "\\end{bmatrix}\n",
    "\\end{array}\\end{split}\n"
   ]
  },
  {
   "cell_type": "markdown",
   "metadata": {},
   "source": [
    "gdzie $\\mathbf{C}(\\mathbf{q})\\in\\mathbb{R}^{3\\times 3}$ jest macierzą rotacji kwaternionu\n",
    "\n",
    "$ g = [0, 0, 1] $"
   ]
  },
  {
   "cell_type": "code",
   "execution_count": null,
   "metadata": {},
   "outputs": [],
   "source": [
    "def h(q, g):\n",
    "    \"\"\"\n",
    "    Measurement function mapping the state quaternion to expected accelerometer measurements.\n",
    "\n",
    "    Parameters:\n",
    "    - q: State quaternion [w, x, y, z]\n",
    "    - g: Gravity vector in ENU frame [gx, gy, gz]\n",
    "\n",
    "    Returns:\n",
    "    - h: 3-element measurement prediction vector\n",
    "    \"\"\"\n",
    "    qw, qx, qy, qz = q\n",
    "    gx, gy, gz = g\n",
    "\n",
    "    # Accelerometer measurement prediction (gravity)\n",
    "    acc_pred = 2 * np.array([\n",
    "        gx * (0.5 - qy**2 - qz**2) +\n",
    "        gy * (qw * qz + qx * qy) +\n",
    "        gz * (qx * qz - qw * qy),\n",
    "\n",
    "        gx * (qx * qy - qw * qz) +\n",
    "        gy * (0.5 - qx**2 - qz**2) +\n",
    "        gz * (qw * qx + qy * qz),\n",
    "\n",
    "        gx * (qw * qy + qx * qz) +\n",
    "        gy * (qy * qz - qw * qx) +\n",
    "        gz * (0.5 - qx**2 - qy**2)\n",
    "    ])\n",
    "\n",
    "    return acc_pred"
   ]
  },
  {
   "cell_type": "markdown",
   "metadata": {},
   "source": [
    "## Kalman gain"
   ]
  },
  {
   "cell_type": "markdown",
   "metadata": {},
   "source": [
    "\\begin{split}\\begin{array}{rcl}\n",
    "\\mathbf{K}_t &=& \\hat{\\mathbf{P}}_t \\mathbf{H}^T(\\hat{\\mathbf{q}}_t) \\mathbf{S}_t^{-1}\n",
    "\\end{array}\\end{split}"
   ]
  },
  {
   "cell_type": "markdown",
   "metadata": {},
   "source": [
    "### Pochodna spodziewanych wskazań akcelerometru\n",
    "\n",
    "znowu z jakobianu"
   ]
  },
  {
   "cell_type": "markdown",
   "metadata": {},
   "source": [
    "\\begin{split}\\begin{array}{rcl}\n",
    "\\mathbf{H}(\\hat{\\mathbf{q}}_t) &=& \\frac{\\partial\\mathbf{h}(\\hat{\\mathbf{q}}_t)}{\\partial\\mathbf{q}} \\\\\n",
    "&=&\\begin{bmatrix}\n",
    "\\frac{\\partial\\mathbf{h}(\\hat{\\mathbf{q}}_t)}{\\partial q_w} &\n",
    "\\frac{\\partial\\mathbf{h}(\\hat{\\mathbf{q}}_t)}{\\partial q_x} &\n",
    "\\frac{\\partial\\mathbf{h}(\\hat{\\mathbf{q}}_t)}{\\partial q_y} &\n",
    "\\frac{\\partial\\mathbf{h}(\\hat{\\mathbf{q}}_t)}{\\partial q_z}\n",
    "\\end{bmatrix} \\\\\n",
    "&=&\n",
    "2\n",
    "\\begin{bmatrix}\n",
    "g_xq_w + g_yq_z - g_zq_y & g_xq_x + g_yq_y + g_zq_z & -g_xq_y + g_yq_x - g_zq_w & -g_xq_z + g_yq_w + g_zq_x \\\\\n",
    "-g_xq_z + g_yq_w + g_zq_x & g_xq_y - g_yq_x + g_zq_w &  g_xq_x + g_yq_y + g_zq_z & -g_xq_w - g_yq_z + g_zq_y \\\\\n",
    "g_xq_y - g_yq_x + g_zq_w & g_xq_z - g_yq_w - g_zq_x &  g_xq_w + g_yq_z - g_zq_y &  g_xq_x + g_yq_y + g_zq_z\n",
    "\\end{bmatrix}\n",
    "\\end{array}\\end{split}\n"
   ]
  },
  {
   "cell_type": "code",
   "execution_count": null,
   "metadata": {},
   "outputs": [],
   "source": [
    "def H_jacobian(q, g):\n",
    "    \"\"\"\n",
    "    Compute the Jacobian matrix H of the measurement function h with respect to the state quaternion.\n",
    "\n",
    "    Parameters:\n",
    "    - q: State quaternion [w, x, y, z]\n",
    "    - g: Gravity vector in ENU frame [gx, gy, gz]\n",
    "\n",
    "    Returns:\n",
    "    - H: 3x4 Jacobian matrix\n",
    "    \"\"\"\n",
    "    qw, qx, qy, qz = q\n",
    "    gx, gy, gz = g\n",
    "\n",
    "    # Jacobian with respect to accelerometer prediction only\n",
    "    H = np.zeros((3, 4))\n",
    "\n",
    "    H[0, :] = 2 * np.array([\n",
    "        gy * qz - gz * qy,\n",
    "        gx * (-2 * qy) + gy * qw + gz * qz,\n",
    "        -2 * gx * qy + gy * qz - gz * qw,\n",
    "        -2 * gx * qz - gy * qy + gz * qx\n",
    "    ])\n",
    "\n",
    "    H[1, :] = 2 * np.array([\n",
    "        gy * qw + gz * qx,\n",
    "        gx * qy + gy * qx + gz * qz,\n",
    "        gx * qx - gy * qw + gz * qz,\n",
    "        gx * qz - gy * qx - gz * qw\n",
    "    ])\n",
    "\n",
    "    H[2, :] = 2 * np.array([\n",
    "        -gx * qy + gy * qx,\n",
    "        gx * qz + gy * qy - gz * qw,\n",
    "        gx * qw - gy * qz + gz * qx,\n",
    "        gx * qx + gy * qy - gz * qw\n",
    "    ])\n",
    "\n",
    "    return H\n"
   ]
  },
  {
   "cell_type": "markdown",
   "metadata": {},
   "source": [
    "### Kowariancja akcelerometru + ostateczny wynik"
   ]
  },
  {
   "cell_type": "markdown",
   "metadata": {},
   "source": [
    "\\begin{split}\\begin{array}{rcl}\n",
    "\\mathbf{S}_t &=& \\mathbf{H}(\\hat{\\mathbf{q}}_t) \\hat{\\mathbf{P}}_t \\mathbf{H}^T(\\hat{\\mathbf{q}}_t) + \\mathbf{R} \\\\\n",
    "\\mathbf{K}_t &=& \\hat{\\mathbf{P}}_t \\mathbf{H}^T(\\hat{\\mathbf{q}}_t) \\mathbf{S}_t^{-1}\n",
    "\\end{array}\\end{split}"
   ]
  },
  {
   "cell_type": "code",
   "execution_count": null,
   "metadata": {},
   "outputs": [],
   "source": [
    "def calculate_kalman_gain(q_hat, P_hat, z_t, accNoise, g):\n",
    "    \"\"\"\n",
    "    Calculate the Kalman gain K.\n",
    "\n",
    "    Parameters:\n",
    "    - q_hat: Current state quaternion [w, x, y, z]\n",
    "    - P_hat: Predicted state covariance matrix (4x4)\n",
    "    - z_t: Measurement vector\n",
    "    - accNoise: Measurement noise covariance (3-element array)\n",
    "    - g: Gravity vector in ENU frame [gx, gy, gz]\n",
    "\n",
    "    Returns:\n",
    "    - K: Kalman gain matrix\n",
    "    - q_hat: Updated state quaternion\n",
    "    \"\"\"\n",
    "    # Predict accelerometer measurement\n",
    "    h_q_hat = h(q_hat, g)\n",
    "    \n",
    "    # Jacobian of measurement function\n",
    "    H = H_jacobian(q_hat, g)\n",
    "    \n",
    "    # Measurement noise covariance\n",
    "    R = np.diag(accNoise)\n",
    "    \n",
    "    # Residual covariance\n",
    "    S = H @ P_hat @ H.T + R\n",
    "    \n",
    "    # Kalman gain\n",
    "    K = P_hat @ H.T @ np.linalg.inv(S)\n",
    "\n",
    "    return K"
   ]
  },
  {
   "cell_type": "markdown",
   "metadata": {},
   "source": [
    "## Aktualizacja zmiennych"
   ]
  },
  {
   "cell_type": "markdown",
   "metadata": {},
   "source": [
    "\\begin{split}\\begin{array}{rcl}\n",
    "\\mathbf{v}_t &=& \\mathbf{z}_t - \\mathbf{h}(\\hat{\\mathbf{q}}_t) \\\\\n",
    "\\mathbf{q}_t &=& \\hat{\\mathbf{q}}_t + \\mathbf{K}_t \\mathbf{v}_t \\\\\n",
    "\\mathbf{P}_t &=& \\big(\\mathbf{I}_4 - \\mathbf{K}_t\\mathbf{H}(\\hat{\\mathbf{q}}_t)\\big)\\hat{\\mathbf{P}}_t\n",
    "\\end{array}\\end{split}"
   ]
  },
  {
   "cell_type": "code",
   "execution_count": null,
   "metadata": {},
   "outputs": [],
   "source": [
    "# Update quaternion estimate with measurement residual\n",
    "v_t = z_t - h_q_hat  # Measurement residual\n",
    "q_hat = q_hat + K @ v_t  # Update state estimate\n",
    "q_hat /= np.linalg.norm(q_hat)  # Re-normalize quaternion\n",
    "\n",
    "# Update covariance\n",
    "self.P[:, :, t] = (np.eye(4) - K @ H) @ P_hat\n",
    "\n",
    "# Save the orientation estimate\n",
    "self.orientation[t] = q_hat"
   ]
  }
 ],
 "metadata": {
  "kernelspec": {
   "display_name": ".venv",
   "language": "python",
   "name": "python3"
  },
  "language_info": {
   "codemirror_mode": {
    "name": "ipython",
    "version": 3
   },
   "file_extension": ".py",
   "mimetype": "text/x-python",
   "name": "python",
   "nbconvert_exporter": "python",
   "pygments_lexer": "ipython3",
   "version": "3.12.5"
  }
 },
 "nbformat": 4,
 "nbformat_minor": 2
}
